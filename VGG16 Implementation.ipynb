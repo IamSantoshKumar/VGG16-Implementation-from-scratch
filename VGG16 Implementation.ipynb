{
 "cells": [
  {
   "cell_type": "code",
   "execution_count": 5,
   "id": "9ba234ae",
   "metadata": {},
   "outputs": [],
   "source": [
    "import torch\n",
    "import torch.nn as nn\n",
    "import torch.nn.functional as F\n",
    "import warnings\n",
    "warnings.filterwarnings('ignore')"
   ]
  },
  {
   "cell_type": "code",
   "execution_count": 6,
   "id": "42bece25",
   "metadata": {},
   "outputs": [],
   "source": [
    "#VGG16 from scratch implementation\n",
    "# @Santosh\n",
    "\n",
    "class VGG16(nn.Module):\n",
    "    def __init__(self):\n",
    "        super(VGG16, self).__init__()\n",
    "        self.block1_conv1 = nn.Conv2d(in_channels=3, out_channels=64, kernel_size = (3, 3), stride = (1, 1), padding=1)\n",
    "        self.block1_conv2 = nn.Conv2d(in_channels=64, out_channels=64, kernel_size = (3, 3), stride = (1, 1), padding=1)\n",
    "\n",
    "        self.block2_conv1 = nn.Conv2d(in_channels=64, out_channels=128, kernel_size = (3, 3), stride = (1, 1), padding=1)\n",
    "        self.block2_conv2 = nn.Conv2d(in_channels=128, out_channels=128, kernel_size = (3, 3), stride = (1, 1), padding=1)\n",
    "        \n",
    "        \n",
    "        self.block3_conv1 = nn.Conv2d(in_channels=128, out_channels=256, kernel_size = (3, 3), stride = (1, 1), padding=1)\n",
    "        self.block3_conv2 = nn.Conv2d(in_channels=256, out_channels=256, kernel_size = (3, 3), stride = (1, 1), padding=1)\n",
    "        self.block3_conv3 = nn.Conv2d(in_channels=256, out_channels=256, kernel_size = (3, 3), stride = (1, 1), padding=1)\n",
    "                                      \n",
    "        self.block4_conv1 = nn.Conv2d(in_channels=256, out_channels=512, kernel_size = (3, 3), stride = (1, 1), padding=1)\n",
    "        self.block4_conv2 = nn.Conv2d(in_channels=512, out_channels=512, kernel_size = (3, 3), stride = (1, 1), padding=1)\n",
    "        self.block4_conv3 = nn.Conv2d(in_channels=512, out_channels=512, kernel_size = (3, 3), stride = (1, 1), padding=1)\n",
    "                                      \n",
    "                                      \n",
    "        self.block5_conv1 = nn.Conv2d(in_channels=512, out_channels=512, kernel_size = (3, 3), stride = (1, 1), padding=1)\n",
    "        self.block5_conv2 = nn.Conv2d(in_channels=512, out_channels=512, kernel_size = (3, 3), stride = (1, 1), padding=1)\n",
    "        self.block5_conv3 = nn.Conv2d(in_channels=512, out_channels=512, kernel_size = (3, 3), stride = (1, 1), padding=1)\n",
    "                                      \n",
    "                                      \n",
    "        self.max_pool = nn.MaxPool2d(kernel_size=(2, 2), stride=(2, 2))\n",
    "        self.adaptive_pool = nn.AdaptiveAvgPool2d(output_size=(7, 7))\n",
    "        self.linear1 = nn.Linear(in_features=512*7*7, out_features=4096)\n",
    "        self.linear2 = nn.Linear(in_features=4096, out_features=4096)\n",
    "        self.linear3 = nn.Linear(in_features=4096, out_features=3)\n",
    "        self.relu = nn.ReLU(inplace=True)\n",
    "        self.dropout = nn.Dropout(0.5)\n",
    "    \n",
    "    def forward(self, image):\n",
    "        X = self.relu(self.block1_conv1(image))\n",
    "        X = self.relu(self.block1_conv2(X))\n",
    "        X = self.max_pool(X)\n",
    "        X = self.relu(self.block2_conv1(X))\n",
    "        X = self.relu(self.block2_conv2(X))\n",
    "        X = self.max_pool(X)\n",
    "        X = self.relu(self.block3_conv1(X))\n",
    "        X = self.relu(self.block3_conv2(X))\n",
    "        X = self.relu(self.block3_conv3(X))\n",
    "        X = self.max_pool(X)\n",
    "        X = self.relu(self.block4_conv1(X))\n",
    "        X = self.relu(self.block4_conv2(X))\n",
    "        X = self.relu(self.block4_conv3(X))\n",
    "        X = self.max_pool(X)\n",
    "        X = self.relu(self.block5_conv1(X))\n",
    "        X = self.relu(self.block5_conv2(X))\n",
    "        X = self.relu(self.block5_conv3(X))\n",
    "        X = self.max_pool(X)\n",
    "        X = self.adaptive_pool(X)\n",
    "        X = X.view(-1, 512*7*7)\n",
    "        X = self.relu(self.linear1(X))\n",
    "        X = self.dropout(X)\n",
    "        X = self.relu(self.linear2(X))\n",
    "        X = self.dropout(X)\n",
    "        X = self.linear3(X)\n",
    "        return X"
   ]
  },
  {
   "cell_type": "code",
   "execution_count": 8,
   "id": "e3533908",
   "metadata": {},
   "outputs": [
    {
     "name": "stdout",
     "output_type": "stream",
     "text": [
      "torch.Size([1, 3])\n"
     ]
    }
   ],
   "source": [
    "image = torch.randn(1, 3, 224, 224)\n",
    "model = VGG16()\n",
    "output = model(image)\n",
    "print(output.shape)"
   ]
  },
  {
   "cell_type": "code",
   "execution_count": 12,
   "id": "b401485b",
   "metadata": {},
   "outputs": [
    {
     "name": "stdout",
     "output_type": "stream",
     "text": [
      "No of trainable parameters: 134272835\n"
     ]
    }
   ],
   "source": [
    "print(f'No of trainable parameters: {sum([p.numel() for p in model.parameters() if p.requires_grad])}')"
   ]
  }
 ],
 "metadata": {
  "kernelspec": {
   "display_name": "Python 3",
   "language": "python",
   "name": "python3"
  },
  "language_info": {
   "codemirror_mode": {
    "name": "ipython",
    "version": 3
   },
   "file_extension": ".py",
   "mimetype": "text/x-python",
   "name": "python",
   "nbconvert_exporter": "python",
   "pygments_lexer": "ipython3",
   "version": "3.7.10"
  }
 },
 "nbformat": 4,
 "nbformat_minor": 5
}
